{
 "cells": [
  {
   "cell_type": "code",
   "execution_count": 2,
   "metadata": {},
   "outputs": [
    {
     "name": "stdout",
     "output_type": "stream",
     "text": [
      "Subtraction is :  (1+1j)\n"
     ]
    }
   ],
   "source": [
    "#1.Write a program to subtract two complex numbers in Python.\n",
    "\n",
    "def subComplex( z1, z2): \n",
    "    return z1-z2\n",
    "\n",
    "z1 = complex(2, 3) \n",
    "z2 = complex(1, 2) \n",
    "print( \"Subtraction is : \", subComplex(z1, z2)) "
   ]
  },
  {
   "cell_type": "code",
   "execution_count": null,
   "metadata": {},
   "outputs": [],
   "source": [
    "#2.Write a program to find the fourth root of a number\n",
    "\n"
   ]
  },
  {
   "cell_type": "code",
   "execution_count": 3,
   "metadata": {},
   "outputs": [
    {
     "name": "stdout",
     "output_type": "stream",
     "text": [
      "Enter 'x' for exit.\n",
      "Enter first number: 12\n",
      "Enter second number: 34\n",
      "\n",
      "Started swapping the given two numbers...\n",
      "Given two numbers are successfully swapped!\n",
      "\n",
      "Value of First and Second number after swapping:\n",
      "First Number = 34 \n",
      "Second Number= 12\n"
     ]
    }
   ],
   "source": [
    "#3.Write a program to swap two numbers in Python with the help of a temporary variable\n",
    "print(\"Enter 'x' for exit.\");\n",
    "num1 = input(\"Enter first number: \");\n",
    "if num1 == 'x':\n",
    "    exit();\n",
    "else:\n",
    "    num2 = input(\"Enter second number: \");\n",
    "    print(\"\\nStarted swapping the given two numbers...\");\n",
    "    number1 = int(num1);\n",
    "    number2 = int(num2);\n",
    "    swap = number1;\n",
    "    number1 = number2;\n",
    "    number2 = swap;\n",
    "    print(\"Given two numbers are successfully swapped!\\n\");\n",
    "    print(\"Value of First and Second number after swapping:\");\n",
    "    print(\"First Number =\",number1,\"\\nSecond Number=\",number2);"
   ]
  },
  {
   "cell_type": "code",
   "execution_count": 11,
   "metadata": {},
   "outputs": [
    {
     "name": "stdout",
     "output_type": "stream",
     "text": [
      "Enter Temperature in Fahrenheit: 98.5\n",
      "Temperature in Celsius = 36.94444444444444\n"
     ]
    }
   ],
   "source": [
    "#5.Write a program to convert fahrenheit to kelvin and celsius both.\n",
    "\n",
    "fah = input(\"Enter Temperature in Fahrenheit: \");\n",
    "if fah == 'x':\n",
    "    exit();\n",
    "else:\n",
    "    fahrenheit = float(fah);\n",
    "    celsius = (fahrenheit-32)/1.8;\n",
    "    print(\"Temperature in Celsius =\",celsius);"
   ]
  },
  {
   "cell_type": "code",
   "execution_count": 4,
   "metadata": {},
   "outputs": [
    {
     "data": {
      "text/plain": [
       "int"
      ]
     },
     "execution_count": 4,
     "metadata": {},
     "output_type": "execute_result"
    }
   ],
   "source": [
    "# 6.Write a program to demonstrate all the available data types in Python. Hint: Use type() function\n",
    "\n",
    "a =5\n",
    "type(a)\n"
   ]
  },
  {
   "cell_type": "code",
   "execution_count": 5,
   "metadata": {},
   "outputs": [
    {
     "data": {
      "text/plain": [
       "str"
      ]
     },
     "execution_count": 5,
     "metadata": {},
     "output_type": "execute_result"
    }
   ],
   "source": [
    "b=\"neeraj\"\n",
    "type(b)"
   ]
  },
  {
   "cell_type": "code",
   "execution_count": 6,
   "metadata": {},
   "outputs": [
    {
     "name": "stdout",
     "output_type": "stream",
     "text": [
      "<class 'bool'>\n"
     ]
    }
   ],
   "source": [
    "c = True                        \n",
    "print(type(c))"
   ]
  },
  {
   "cell_type": "code",
   "execution_count": 7,
   "metadata": {},
   "outputs": [
    {
     "name": "stdout",
     "output_type": "stream",
     "text": [
      "5  is of type <class 'float'>\n"
     ]
    }
   ],
   "source": [
    "d = 2.5                           \n",
    "print(a, \" is of type\", type(d))"
   ]
  },
  {
   "cell_type": "code",
   "execution_count": null,
   "metadata": {},
   "outputs": [],
   "source": []
  }
 ],
 "metadata": {
  "kernelspec": {
   "display_name": "Python 3",
   "language": "python",
   "name": "python3"
  },
  "language_info": {
   "codemirror_mode": {
    "name": "ipython",
    "version": 3
   },
   "file_extension": ".py",
   "mimetype": "text/x-python",
   "name": "python",
   "nbconvert_exporter": "python",
   "pygments_lexer": "ipython3",
   "version": "3.6.5"
  }
 },
 "nbformat": 4,
 "nbformat_minor": 2
}
